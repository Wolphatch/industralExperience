{
 "cells": [
  {
   "cell_type": "code",
   "execution_count": 56,
   "metadata": {},
   "outputs": [],
   "source": [
    "# import packages\n",
    "import pandas as pd\n",
    "import re\n",
    "import numpy as np\n",
    "import os\n",
    "import csv"
   ]
  },
  {
   "cell_type": "markdown",
   "metadata": {},
   "source": [
    "# Process the data into a csv"
   ]
  },
  {
   "cell_type": "code",
   "execution_count": 20,
   "metadata": {},
   "outputs": [],
   "source": [
    "# get filenames\n",
    "filePath=\"/Users/huzhicong/Desktop/data/temp and rain data/HQ_daily_prcp_txt\"\n",
    "prcpFiles=[\"/Users/huzhicong/Desktop/data/temp and rain data/HQ_daily_prcp_txt/\"+x for x in os.listdir(filePath) if x!=\".DS_Store\" and x!=\"HQDR_stations.txt\"]\n",
    "stationFile='HQDR_stations.txt'"
   ]
  },
  {
   "cell_type": "code",
   "execution_count": 42,
   "metadata": {},
   "outputs": [],
   "source": [
    "#df=pd.DataFrame(columns=[\"station_num\",\"date\",\"prcp_amount\"])\n",
    "prcp_list=[]"
   ]
  },
  {
   "cell_type": "code",
   "execution_count": 43,
   "metadata": {},
   "outputs": [],
   "source": [
    "for i in prcpFiles:\n",
    "    file=open(i,\"r\")\n",
    "    station_num=re.findall(\"(?:/Users/huzhicong/Desktop/data/temp and rain data/HQ_daily_prcp_txt/prcphq.)(\\d{6,6})(?:.daily)\",i)[0]\n",
    "    for j in file.readlines():        \n",
    "        if j[0]==\"P\":\n",
    "            continue\n",
    "        else:\n",
    "            # get the year month date\n",
    "            year=j[0:4]\n",
    "            month=j[4:6]\n",
    "            day=j[6:8]\n",
    "            \n",
    "            #get the prcp number\n",
    "            amount=re.findall(\"\\d+\\.\\d\",j)\n",
    "            \n",
    "            #get the \"date\" and the \"prcp_amount\"\n",
    "            prcp_amount=float(amount[0])\n",
    "            date=day+\"/\"+month+\"/\"+year\n",
    "            \n",
    "            prcp_list.append([station_num,date,prcp_amount])\n",
    "            \n",
    "        \n",
    "        \n",
    "        "
   ]
  },
  {
   "cell_type": "code",
   "execution_count": 58,
   "metadata": {},
   "outputs": [],
   "source": [
    "with open(\"/Users/huzhicong/Desktop/data/temp and rain data/HQ_daily_prcp_txt/Prcp.csv\", \"w\", newline=\"\") as f:\n",
    "    writer = csv.writer(f)\n",
    "    writer.writerows(prcp_list)"
   ]
  },
  {
   "cell_type": "code",
   "execution_count": 70,
   "metadata": {
    "scrolled": true
   },
   "outputs": [],
   "source": [
    "station_list=[]\n",
    "with open(\"/Users/huzhicong/Desktop/data/temp and rain data/HQ_daily_prcp_txt/\"+stationFile,\"r\") as f:\n",
    "    for i in f.readlines():\n",
    "        station_data=i[0:20].split(' ')\n",
    "        station_num=station_data[0]\n",
    "        station_type=\"prcp\"\n",
    "        lat=station_data[1]\n",
    "        lon=station_data[2]\n",
    "        station_name=i[28:-1]\n",
    "        \n",
    "        station_list.append([station_num,station_type,lat,lon,station_name])\n",
    "        "
   ]
  },
  {
   "cell_type": "code",
   "execution_count": 72,
   "metadata": {},
   "outputs": [],
   "source": [
    "with open(\"/Users/huzhicong/Desktop/data/temp and rain data/HQ_daily_prcp_txt/station_prcp.csv\", \"w\", newline=\"\") as f:\n",
    "    writer = csv.writer(f)\n",
    "    writer.writerows(station_list)"
   ]
  }
 ],
 "metadata": {
  "kernelspec": {
   "display_name": "Python 3",
   "language": "python",
   "name": "python3"
  },
  "language_info": {
   "codemirror_mode": {
    "name": "ipython",
    "version": 3
   },
   "file_extension": ".py",
   "mimetype": "text/x-python",
   "name": "python",
   "nbconvert_exporter": "python",
   "pygments_lexer": "ipython3",
   "version": "3.7.1"
  }
 },
 "nbformat": 4,
 "nbformat_minor": 2
}
