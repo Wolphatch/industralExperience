{
 "cells": [
  {
   "cell_type": "code",
   "execution_count": 1,
   "metadata": {},
   "outputs": [],
   "source": [
    "import pandas as pd\n",
    "import re\n",
    "import numpy as np\n",
    "import os\n",
    "import csv"
   ]
  },
  {
   "cell_type": "markdown",
   "metadata": {},
   "source": [
    "# Process the data into a csv"
   ]
  },
  {
   "cell_type": "code",
   "execution_count": 21,
   "metadata": {},
   "outputs": [],
   "source": [
    "filePath=\"/Users/huzhicong/Desktop/data/temp and rain data/HQ_monthly_evap_txt\"\n",
    "evapFiles=[\"/Users/huzhicong/Desktop/data/temp and rain data/HQ_monthly_evap_txt/\"+x for x in os.listdir(filePath) \\\n",
    "           if \"month.txt\" in x and '.Z' not in x]\n",
    "\n",
    "stationFile='EVAP_stations.txt'"
   ]
  },
  {
   "cell_type": "code",
   "execution_count": 9,
   "metadata": {
    "scrolled": true
   },
   "outputs": [
    {
     "data": {
      "text/plain": [
       "'/Users/huzhicong/Desktop/data/temp and rain data/HQ_monthly_evap_txt/evaphq.008051.month.txt'"
      ]
     },
     "execution_count": 9,
     "metadata": {},
     "output_type": "execute_result"
    }
   ],
   "source": [
    "evapFiles[0]"
   ]
  },
  {
   "cell_type": "code",
   "execution_count": 18,
   "metadata": {},
   "outputs": [],
   "source": [
    "evap_list=[]"
   ]
  },
  {
   "cell_type": "code",
   "execution_count": 19,
   "metadata": {},
   "outputs": [],
   "source": [
    "for i in prcpFiles:\n",
    "    file=open(i,\"r\")\n",
    "    station_num=re.findall(\"(?:/Users/huzhicong/Desktop/data/temp and rain data/HQ_monthly_evap_txt/evaphq.)(\\d{6,6})(?:.month)\",i)[0]\n",
    "    for j in file.readlines():        \n",
    "        if j[0]==\"E\":\n",
    "            continue\n",
    "        else:\n",
    "            year=j[0:4]\n",
    "            month=j[4:6]\n",
    "            day=j[6:8]\n",
    "            evap_amount=amount=float(re.findall(\"\\d+\\.\\d\",j)[0])\n",
    "            date=day+\"/\"+month+\"/\"+year\n",
    "           \n",
    "            evap_list.append([station_num,date,evap_amount])\n",
    "            "
   ]
  },
  {
   "cell_type": "code",
   "execution_count": 28,
   "metadata": {},
   "outputs": [],
   "source": [
    "station_list=[]\n",
    "with open(\"/Users/huzhicong/Desktop/data/temp and rain data/HQ_monthly_evap_txt/\"+stationFile,\"r\") as f:\n",
    "    for i in f.readlines():\n",
    "        station_data=i[0:20].split(' ')\n",
    "        station_num=station_data[0]\n",
    "        station_type=\"evap\"\n",
    "        lat=station_data[1]\n",
    "        lon=station_data[2]\n",
    "        station_name=i[28:-1]\n",
    "        \n",
    "        station_list.append([station_num,station_type,lat,lon,station_name])\n",
    "        "
   ]
  },
  {
   "cell_type": "code",
   "execution_count": 30,
   "metadata": {},
   "outputs": [],
   "source": [
    "with open(\"/Users/huzhicong/Desktop/data/temp and rain data/HQ_monthly_evap_txt/station_evap.csv\", \"w\", newline=\"\") as f:\n",
    "    writer = csv.writer(f)\n",
    "    writer.writerows(station_list)"
   ]
  }
 ],
 "metadata": {
  "kernelspec": {
   "display_name": "Python 3",
   "language": "python",
   "name": "python3"
  },
  "language_info": {
   "codemirror_mode": {
    "name": "ipython",
    "version": 3
   },
   "file_extension": ".py",
   "mimetype": "text/x-python",
   "name": "python",
   "nbconvert_exporter": "python",
   "pygments_lexer": "ipython3",
   "version": "3.7.1"
  }
 },
 "nbformat": 4,
 "nbformat_minor": 2
}
